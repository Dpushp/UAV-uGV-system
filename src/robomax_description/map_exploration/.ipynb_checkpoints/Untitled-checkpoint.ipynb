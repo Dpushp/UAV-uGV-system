{
 "cells": [
  {
   "cell_type": "code",
   "execution_count": 1,
   "metadata": {},
   "outputs": [],
   "source": [
    "#!/usr/bin/env python\n",
    "import rospy\n",
    "from std_msgs.msg import String\n",
    "from nav_msgs.msg import OccupancyGrid\n",
    "import numpy as np\n"
   ]
  },
  {
   "cell_type": "code",
   "execution_count": 2,
   "metadata": {},
   "outputs": [],
   "source": [
    "pub = rospy.Publisher('map2', OccupancyGrid, queue_size=10)\n",
    "rospy.init_node('map_module')"
   ]
  },
  {
   "cell_type": "code",
   "execution_count": 3,
   "metadata": {},
   "outputs": [
    {
     "name": "stdout",
     "output_type": "stream",
     "text": [
      "------------------------\n",
      "pixel space x =  100\n",
      "pixel space y =  100\n",
      "pixel space resolution =  0.05 meters per pixel\n",
      "pixel space origin = 0,0 (bottom left corner)\n",
      "------------------------\n",
      "in mtrs real world min x =  -2.5\n",
      "in mtrs real world max x =  2.5\n",
      "in mtrs real world min y =  -2.5\n",
      "in mtrs real world max y =  2.5\n",
      "------------------------\n"
     ]
    }
   ],
   "source": [
    "map_x = 100 # in pixels\n",
    "map_y = 100 # in pixels\n",
    "map_res = 0.05 # in meters\n",
    "print(\"------------------------\")\n",
    "print(\"pixel space x = \",map_x)\n",
    "print(\"pixel space y = \",map_y)\n",
    "print(\"pixel space resolution = \",map_res,\"meters per pixel\")\n",
    "print(\"pixel space origin = 0,0 (bottom left corner)\")\n",
    "print(\"------------------------\")\n",
    "print(\"in mtrs real world min x = \",-((map_x*map_res))/2)\n",
    "print(\"in mtrs real world max x = \",((map_x*map_res))/2)\n",
    "print(\"in mtrs real world min y = \",-((map_y*map_res))/2)\n",
    "print(\"in mtrs real world max y = \",((map_y*map_res))/2)\n",
    "print(\"------------------------\")"
   ]
  },
  {
   "cell_type": "code",
   "execution_count": 4,
   "metadata": {},
   "outputs": [],
   "source": [
    "msg = OccupancyGrid()\n",
    "msg.header.frame_id = \"map\"\n",
    "msg.header.seq = 1\n",
    "msg.header.stamp = rospy.Time.now()\n",
    "msg.info.resolution = map_res\n",
    "msg.info.height = map_y \n",
    "msg.info.width = map_x \n",
    "msg.info.origin.position.x = -(msg.info.width*msg.info.resolution)/2\n",
    "msg.info.origin.position.y = -(msg.info.height*msg.info.resolution)/2\n",
    "msg.info.origin.position.z = 0.0\n",
    "msg.info.origin.orientation.x = 0.0\n",
    "msg.info.origin.orientation.y = 0.0\n",
    "msg.info.origin.orientation.z = 0.0\n",
    "msg.info.origin.orientation.w = 1.0"
   ]
  },
  {
   "cell_type": "code",
   "execution_count": 5,
   "metadata": {},
   "outputs": [],
   "source": [
    "def world_to_map(x,y):\n",
    "    x = x / msg.info.resolution\n",
    "    y = y / msg.info.resolution\n",
    "    x = (x + (msg.info.height/2))\n",
    "    y = (y + (msg.info.width/2))\n",
    "    num = x * (msg.info.width)\n",
    "    num += y\n",
    "    return [x,y,num]\n",
    "\n",
    "def map_to_world(x,y):\n",
    "    x = x * msg.info.resolution;\n",
    "    y = y * msg.info.resolution;\n",
    "    x = (x + msg.info.origin.position.x)/msg.info.resolution # map_size*reso/2\n",
    "    y = (y + msg.info.origin.position.y)/msg.info.resolution\n",
    "    return x,y"
   ]
  },
  {
   "cell_type": "code",
   "execution_count": 25,
   "metadata": {},
   "outputs": [
    {
     "name": "stdout",
     "output_type": "stream",
     "text": [
      "[99.0, 99.0, 9999.0]\n"
     ]
    }
   ],
   "source": [
    "x_mtrs = 2.45\n",
    "y_mtrs = 2.45\n",
    "print(world_to_map(x_mtrs,y_mtrs))\n",
    "rate = rospy.Rate(40)\n",
    "for j in np.arange(-2.5, 2.5, 0.1):\n",
    "    for i in np.arange(-2.5, 2.5, 0.1):\n",
    "        msg.data = [0] * (msg.info.width*msg.info.height)\n",
    "        try:\n",
    "            msg.data[int(world_to_map(i,j)[2])] = -1\n",
    "            pub.publish(msg)\n",
    "        except:\n",
    "            pass\n",
    "        rate.sleep()\n",
    "    \n"
   ]
  },
  {
   "cell_type": "code",
   "execution_count": 18,
   "metadata": {},
   "outputs": [
    {
     "data": {
      "text/plain": [
       "array([-2.50000000e+00, -2.40000000e+00, -2.30000000e+00, -2.20000000e+00,\n",
       "       -2.10000000e+00, -2.00000000e+00, -1.90000000e+00, -1.80000000e+00,\n",
       "       -1.70000000e+00, -1.60000000e+00, -1.50000000e+00, -1.40000000e+00,\n",
       "       -1.30000000e+00, -1.20000000e+00, -1.10000000e+00, -1.00000000e+00,\n",
       "       -9.00000000e-01, -8.00000000e-01, -7.00000000e-01, -6.00000000e-01,\n",
       "       -5.00000000e-01, -4.00000000e-01, -3.00000000e-01, -2.00000000e-01,\n",
       "       -1.00000000e-01,  2.22044605e-15,  1.00000000e-01,  2.00000000e-01,\n",
       "        3.00000000e-01,  4.00000000e-01,  5.00000000e-01,  6.00000000e-01,\n",
       "        7.00000000e-01,  8.00000000e-01,  9.00000000e-01,  1.00000000e+00,\n",
       "        1.10000000e+00,  1.20000000e+00,  1.30000000e+00,  1.40000000e+00,\n",
       "        1.50000000e+00,  1.60000000e+00,  1.70000000e+00,  1.80000000e+00,\n",
       "        1.90000000e+00,  2.00000000e+00,  2.10000000e+00,  2.20000000e+00,\n",
       "        2.30000000e+00,  2.40000000e+00])"
      ]
     },
     "execution_count": 18,
     "metadata": {},
     "output_type": "execute_result"
    }
   ],
   "source": [
    "np.arange(-2.5, 2.5, 0.1)"
   ]
  },
  {
   "cell_type": "code",
   "execution_count": null,
   "metadata": {},
   "outputs": [],
   "source": []
  }
 ],
 "metadata": {
  "kernelspec": {
   "display_name": "Python 3",
   "language": "python",
   "name": "python3"
  },
  "language_info": {
   "codemirror_mode": {
    "name": "ipython",
    "version": 3
   },
   "file_extension": ".py",
   "mimetype": "text/x-python",
   "name": "python",
   "nbconvert_exporter": "python",
   "pygments_lexer": "ipython3",
   "version": "3.8.5"
  }
 },
 "nbformat": 4,
 "nbformat_minor": 4
}
