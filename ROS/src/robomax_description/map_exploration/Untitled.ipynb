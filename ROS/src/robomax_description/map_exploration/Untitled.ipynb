{
 "cells": [
  {
   "cell_type": "code",
   "execution_count": 1,
   "metadata": {},
   "outputs": [],
   "source": [
    "#!/usr/bin/env python\n",
    "import rospy\n",
    "from std_msgs.msg import String\n",
    "from nav_msgs.msg import OccupancyGrid\n",
    "import numpy as np\n"
   ]
  },
  {
   "cell_type": "code",
   "execution_count": 2,
   "metadata": {},
   "outputs": [],
   "source": [
    "pub = rospy.Publisher('map2', OccupancyGrid, queue_size=10)\n",
    "rospy.init_node('map_module')"
   ]
  },
  {
   "cell_type": "code",
   "execution_count": 3,
   "metadata": {},
   "outputs": [
    {
     "name": "stdout",
     "output_type": "stream",
     "text": [
      "------------------------\n",
      "pixel space x =  100\n",
      "pixel space y =  100\n",
      "pixel space resolution =  0.05 meters per pixel\n",
      "pixel space origin = 0,0 (bottom left corner)\n",
      "------------------------\n",
      "in mtrs real world min x =  -2.5\n",
      "in mtrs real world max x =  2.5\n",
      "in mtrs real world min y =  -2.5\n",
      "in mtrs real world max y =  2.5\n",
      "------------------------\n"
     ]
    }
   ],
   "source": [
    "map_x = 100 # in pixels\n",
    "map_y = 100 # in pixels\n",
    "map_res = 0.05 # in meters\n",
    "print(\"------------------------\")\n",
    "print(\"pixel space x = \",map_x)\n",
    "print(\"pixel space y = \",map_y)\n",
    "print(\"pixel space resolution = \",map_res,\"meters per pixel\")\n",
    "print(\"pixel space origin = 0,0 (bottom left corner)\")\n",
    "print(\"------------------------\")\n",
    "print(\"in mtrs real world min x = \",-((map_x*map_res))/2)\n",
    "print(\"in mtrs real world max x = \",((map_x*map_res))/2)\n",
    "print(\"in mtrs real world min y = \",-((map_y*map_res))/2)\n",
    "print(\"in mtrs real world max y = \",((map_y*map_res))/2)\n",
    "print(\"------------------------\")"
   ]
  },
  {
   "cell_type": "code",
   "execution_count": 4,
   "metadata": {},
   "outputs": [],
   "source": [
    "msg = OccupancyGrid()\n",
    "msg.header.frame_id = \"map\"\n",
    "msg.header.seq = 1\n",
    "msg.header.stamp = rospy.Time.now()\n",
    "msg.info.resolution = map_res\n",
    "msg.info.height = map_y \n",
    "msg.info.width = map_x \n",
    "msg.info.origin.position.x = -(msg.info.width*msg.info.resolution)/2\n",
    "msg.info.origin.position.y = -(msg.info.height*msg.info.resolution)/2\n",
    "msg.info.origin.position.z = 0.0\n",
    "msg.info.origin.orientation.x = 0.0\n",
    "msg.info.origin.orientation.y = 0.0\n",
    "msg.info.origin.orientation.z = 0.0\n",
    "msg.info.origin.orientation.w = 1.0"
   ]
  },
  {
   "cell_type": "code",
   "execution_count": 5,
   "metadata": {},
   "outputs": [],
   "source": [
    "def world_to_map(x,y):\n",
    "    x = x / msg.info.resolution\n",
    "    y = y / msg.info.resolution\n",
    "    x = (x + (msg.info.height/2))\n",
    "    y = (y + (msg.info.width/2))\n",
    "    num = x * (msg.info.width)\n",
    "    num += y\n",
    "    return [x,y,num]\n",
    "\n",
    "def map_to_world(x,y):\n",
    "    x = x * msg.info.resolution;\n",
    "    y = y * msg.info.resolution;\n",
    "    x = (x + msg.info.origin.position.x)/msg.info.resolution # map_size*reso/2\n",
    "    y = (y + msg.info.origin.position.y)/msg.info.resolution\n",
    "    return x,y"
   ]
  },
  {
   "cell_type": "code",
   "execution_count": 70,
   "metadata": {},
   "outputs": [
    {
     "name": "stdout",
     "output_type": "stream",
     "text": [
      "[99.0, 99.0, 9999.0]\n",
      "0\n",
      "1\n",
      "1\n",
      "2\n",
      "3\n",
      "4\n",
      "5\n",
      "6\n",
      "7\n",
      "8\n",
      "9\n",
      "10\n",
      "11\n",
      "12\n",
      "13\n",
      "14\n",
      "15\n",
      "16\n",
      "17\n",
      "18\n",
      "19\n",
      "20\n",
      "21\n",
      "22\n",
      "23\n",
      "24\n",
      "25\n",
      "26\n",
      "27\n",
      "28\n",
      "29\n",
      "30\n",
      "31\n",
      "32\n",
      "33\n",
      "34\n",
      "35\n",
      "36\n",
      "37\n",
      "38\n",
      "39\n",
      "40\n",
      "41\n",
      "42\n",
      "43\n",
      "44\n",
      "45\n",
      "46\n",
      "47\n",
      "48\n",
      "49\n",
      "50\n",
      "51\n",
      "52\n",
      "53\n",
      "54\n",
      "55\n",
      "56\n",
      "57\n",
      "58\n",
      "59\n",
      "60\n",
      "61\n",
      "62\n",
      "63\n",
      "64\n",
      "65\n",
      "66\n",
      "67\n",
      "68\n",
      "69\n",
      "70\n",
      "71\n",
      "72\n",
      "73\n",
      "74\n",
      "75\n",
      "76\n",
      "77\n",
      "78\n",
      "79\n",
      "80\n",
      "81\n",
      "82\n",
      "83\n",
      "84\n",
      "85\n",
      "86\n",
      "87\n",
      "88\n",
      "89\n",
      "90\n",
      "91\n",
      "92\n",
      "93\n",
      "94\n",
      "95\n",
      "96\n",
      "97\n",
      "98\n",
      "99\n",
      "100\n"
     ]
    }
   ],
   "source": [
    "x_mtrs = 2.45\n",
    "y_mtrs = 2.45\n",
    "print(world_to_map(x_mtrs,y_mtrs))\n",
    "rate = rospy.Rate(500)\n",
    "msg.data = [0] * (msg.info.width*msg.info.height)\n",
    "# for j in np.arange(-2.45, 2.5, 0.05):\n",
    "for i in np.arange(-2.5, 2.6, 0.05):\n",
    "\n",
    "    try:\n",
    "        print(int(world_to_map(-2.5,i)[2]))\n",
    "        msg.data[int(world_to_map(-2.5,i)[2])] = -1\n",
    "        pub.publish(msg)\n",
    "    except:\n",
    "        pass\n",
    "    rate.sleep()\n",
    "    \n"
   ]
  },
  {
   "cell_type": "code",
   "execution_count": 18,
   "metadata": {
    "collapsed": true
   },
   "outputs": [
    {
     "data": {
      "text/plain": [
       "array([-2.50000000e+00, -2.40000000e+00, -2.30000000e+00, -2.20000000e+00,\n",
       "       -2.10000000e+00, -2.00000000e+00, -1.90000000e+00, -1.80000000e+00,\n",
       "       -1.70000000e+00, -1.60000000e+00, -1.50000000e+00, -1.40000000e+00,\n",
       "       -1.30000000e+00, -1.20000000e+00, -1.10000000e+00, -1.00000000e+00,\n",
       "       -9.00000000e-01, -8.00000000e-01, -7.00000000e-01, -6.00000000e-01,\n",
       "       -5.00000000e-01, -4.00000000e-01, -3.00000000e-01, -2.00000000e-01,\n",
       "       -1.00000000e-01,  2.22044605e-15,  1.00000000e-01,  2.00000000e-01,\n",
       "        3.00000000e-01,  4.00000000e-01,  5.00000000e-01,  6.00000000e-01,\n",
       "        7.00000000e-01,  8.00000000e-01,  9.00000000e-01,  1.00000000e+00,\n",
       "        1.10000000e+00,  1.20000000e+00,  1.30000000e+00,  1.40000000e+00,\n",
       "        1.50000000e+00,  1.60000000e+00,  1.70000000e+00,  1.80000000e+00,\n",
       "        1.90000000e+00,  2.00000000e+00,  2.10000000e+00,  2.20000000e+00,\n",
       "        2.30000000e+00,  2.40000000e+00])"
      ]
     },
     "execution_count": 18,
     "metadata": {},
     "output_type": "execute_result"
    }
   ],
   "source": [
    "np.arange(-2.5, 2.5, 0.1)"
   ]
  },
  {
   "cell_type": "code",
   "execution_count": null,
   "metadata": {},
   "outputs": [],
   "source": []
  }
 ],
 "metadata": {
  "kernelspec": {
   "display_name": "Python 3",
   "language": "python",
   "name": "python3"
  },
  "language_info": {
   "codemirror_mode": {
    "name": "ipython",
    "version": 3
   },
   "file_extension": ".py",
   "mimetype": "text/x-python",
   "name": "python",
   "nbconvert_exporter": "python",
   "pygments_lexer": "ipython3",
   "version": "3.8.5"
  }
 },
 "nbformat": 4,
 "nbformat_minor": 4
}
